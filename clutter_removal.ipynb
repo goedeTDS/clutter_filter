{
 "cells": [
  {
   "cell_type": "code",
   "execution_count": 5,
   "id": "b0906e49-5ac6-48d9-a506-ea3023108fd2",
   "metadata": {},
   "outputs": [],
   "source": [
    "from clutter_filter import GroundClutterFilter\n",
    "import numpy as np\n",
    "import glob, os\n",
    "import radarkit"
   ]
  },
  {
   "cell_type": "code",
   "execution_count": 6,
   "id": "479577be-4e78-466f-a27c-378712273f8e",
   "metadata": {},
   "outputs": [],
   "source": [
    "rkid = radarkit.open('/home/vitorgoede/radar_data/Raxpol/20250605/RAXPOL-20250605-223617.946.rkc')"
   ]
  },
  {
   "cell_type": "code",
   "execution_count": 7,
   "id": "a9cd3f4f-a891-4403-b5dc-f69020edc171",
   "metadata": {},
   "outputs": [
    {
     "name": "stdout",
     "output_type": "stream",
     "text": [
      "Estimated pulseCount = 79,989   gateCount = 1,245   downSampledGateCount = 1,245\n"
     ]
    },
    {
     "name": "stderr",
     "output_type": "stream",
     "text": [
      "100%|████████████████████████████████████████████████████████████████████████▉|00:02<00:00\n"
     ]
    }
   ],
   "source": [
    "out = rkid.read()"
   ]
  },
  {
   "cell_type": "code",
   "execution_count": 8,
   "id": "4e83ebb6-d3c7-4210-816b-4e43833c12de",
   "metadata": {},
   "outputs": [],
   "source": [
    "ciq = out['ciq']\n",
    "\n",
    "lamb = rkid.desc.wavelength\n",
    "prt = radarkit.read_RKFloat_array(rkid.configs.contents.prt,1)\n",
    "c = 3e8\n",
    "nyq_val = lamb/(4*prt)\n",
    "C = np.abs(radarkit.read_RKComplex_array(rkid.configs.contents.systemZCal, 1)[0])\n",
    "l = np.abs(radarkit.read_RKComplex_array(rkid.configs.contents.systemZCal, 2)[1])\n",
    "\n",
    "count = 55\n",
    "rayCount = 1440\n",
    "gateCount = ciq.shape[2]\n",
    "n = rayCount * count\n",
    "#n = 55011\n",
    "X_h = np.reshape(ciq[:n, 0, :], (rayCount, count, -1))\n",
    "X_h = np.transpose(X_h, (2, 0, 1))\n",
    "\n",
    "X_v = np.reshape(ciq[:n, 1, :], (rayCount, count, -1))\n",
    "X_v = np.transpose(X_v, (2, 0, 1))"
   ]
  },
  {
   "cell_type": "code",
   "execution_count": 9,
   "id": "4dce98a2-a4e9-4e67-ac1a-cccca5a5f1b5",
   "metadata": {},
   "outputs": [
    {
     "name": "stdout",
     "output_type": "stream",
     "text": [
      "Filter initialized with:\n",
      "  Wavelength: 0.0308 m\n",
      "  Scan Rate: 72.72726927291279 deg/s\n",
      "  PRT: 0.0002500000118743628 s\n",
      "  Number of Samples per gate: 55\n",
      "  Nyquist Velocity: 30.80 m/s\n",
      "\n",
      "--- Filtering X_h (Horizontal Polarization) ---\n",
      "Processing 1792800 cells (1245 range gates, 1440 azimuthal positions)...\n",
      "Estimating CNR for all cells...\n",
      "  _estimate_clutter_power_from_polyfit: i_series.shape = (1792800, 55)\n",
      "  _estimate_clutter_power_from_polyfit: q_series.shape = (1792800, 55)\n",
      "  _estimate_clutter_power_from_polyfit: t.shape = (55,)\n",
      "  _estimate_clutter_power_from_polyfit: i_series_T.shape = (55, 1792800)\n",
      "  _estimate_clutter_power_from_polyfit: coeffs_i.shape = (3, 1792800)\n",
      "  _estimate_clutter_power_from_polyfit: clutter_i.shape = (1792800, 55)\n",
      "  _estimate_clutter_power_from_polyfit: clutter_q.shape = (1792800, 55)\n",
      "  _estimate_clutter_power_from_polyfit: clutter_power_i.shape = (1792800,)\n",
      "  _estimate_clutter_power_from_polyfit: total_clutter_power.shape = (1792800,)\n",
      "Determining polynomial orders...\n",
      "Performing regression filtering on I series...\n",
      "  _perform_regression_filter: selected_series.shape = (351098, 55)\n",
      "  _perform_regression_filter: clutter_trend.shape = (351098, 55)\n",
      "  _perform_regression_filter: selected_series.shape = (373227, 55)\n",
      "  _perform_regression_filter: clutter_trend.shape = (373227, 55)\n",
      "  _perform_regression_filter: selected_series.shape = (906427, 55)\n",
      "  _perform_regression_filter: clutter_trend.shape = (906427, 55)\n",
      "  _perform_regression_filter: selected_series.shape = (105212, 55)\n",
      "  _perform_regression_filter: clutter_trend.shape = (105212, 55)\n",
      "  _perform_regression_filter: selected_series.shape = (26397, 55)\n",
      "  _perform_regression_filter: clutter_trend.shape = (26397, 55)\n",
      "  _perform_regression_filter: selected_series.shape = (30439, 55)\n",
      "  _perform_regression_filter: clutter_trend.shape = (30439, 55)\n",
      "Performing regression filtering on Q series...\n",
      "  _perform_regression_filter: selected_series.shape = (351098, 55)\n",
      "  _perform_regression_filter: clutter_trend.shape = (351098, 55)\n",
      "  _perform_regression_filter: selected_series.shape = (373227, 55)\n",
      "  _perform_regression_filter: clutter_trend.shape = (373227, 55)\n",
      "  _perform_regression_filter: selected_series.shape = (906427, 55)\n",
      "  _perform_regression_filter: clutter_trend.shape = (906427, 55)\n",
      "  _perform_regression_filter: selected_series.shape = (105212, 55)\n",
      "  _perform_regression_filter: clutter_trend.shape = (105212, 55)\n",
      "  _perform_regression_filter: selected_series.shape = (26397, 55)\n",
      "  _perform_regression_filter: clutter_trend.shape = (26397, 55)\n",
      "  _perform_regression_filter: selected_series.shape = (30439, 55)\n",
      "  _perform_regression_filter: clutter_trend.shape = (30439, 55)\n",
      "Applying Gaussian interpolation (if conditions met)...\n"
     ]
    },
    {
     "data": {
      "application/vnd.jupyter.widget-view+json": {
       "model_id": "ccfb49f5ccdc4533aea785516b0f608b",
       "version_major": 2,
       "version_minor": 0
      },
      "text/plain": [
       "Batch Gaussian Interpolation:   0%|          | 0/317361 [00:00<?, ?it/s]"
      ]
     },
     "metadata": {},
     "output_type": "display_data"
    },
    {
     "name": "stdout",
     "output_type": "stream",
     "text": [
      "\n",
      "--- Filtering X_v (Vertical Polarization) ---\n",
      "Processing 1792800 cells (1245 range gates, 1440 azimuthal positions)...\n",
      "Estimating CNR for all cells...\n",
      "  _estimate_clutter_power_from_polyfit: i_series.shape = (1792800, 55)\n",
      "  _estimate_clutter_power_from_polyfit: q_series.shape = (1792800, 55)\n",
      "  _estimate_clutter_power_from_polyfit: t.shape = (55,)\n",
      "  _estimate_clutter_power_from_polyfit: i_series_T.shape = (55, 1792800)\n",
      "  _estimate_clutter_power_from_polyfit: coeffs_i.shape = (3, 1792800)\n",
      "  _estimate_clutter_power_from_polyfit: clutter_i.shape = (1792800, 55)\n",
      "  _estimate_clutter_power_from_polyfit: clutter_q.shape = (1792800, 55)\n",
      "  _estimate_clutter_power_from_polyfit: clutter_power_i.shape = (1792800,)\n",
      "  _estimate_clutter_power_from_polyfit: total_clutter_power.shape = (1792800,)\n",
      "Determining polynomial orders...\n",
      "Performing regression filtering on I series...\n",
      "  _perform_regression_filter: selected_series.shape = (272205, 55)\n",
      "  _perform_regression_filter: clutter_trend.shape = (272205, 55)\n",
      "  _perform_regression_filter: selected_series.shape = (118240, 55)\n",
      "  _perform_regression_filter: clutter_trend.shape = (118240, 55)\n",
      "  _perform_regression_filter: selected_series.shape = (134817, 55)\n",
      "  _perform_regression_filter: clutter_trend.shape = (134817, 55)\n",
      "  _perform_regression_filter: selected_series.shape = (912619, 55)\n",
      "  _perform_regression_filter: clutter_trend.shape = (912619, 55)\n",
      "  _perform_regression_filter: selected_series.shape = (315050, 55)\n",
      "  _perform_regression_filter: clutter_trend.shape = (315050, 55)\n",
      "  _perform_regression_filter: selected_series.shape = (39869, 55)\n",
      "  _perform_regression_filter: clutter_trend.shape = (39869, 55)\n",
      "Performing regression filtering on Q series...\n",
      "  _perform_regression_filter: selected_series.shape = (272205, 55)\n",
      "  _perform_regression_filter: clutter_trend.shape = (272205, 55)\n",
      "  _perform_regression_filter: selected_series.shape = (118240, 55)\n",
      "  _perform_regression_filter: clutter_trend.shape = (118240, 55)\n",
      "  _perform_regression_filter: selected_series.shape = (134817, 55)\n",
      "  _perform_regression_filter: clutter_trend.shape = (134817, 55)\n",
      "  _perform_regression_filter: selected_series.shape = (912619, 55)\n",
      "  _perform_regression_filter: clutter_trend.shape = (912619, 55)\n",
      "  _perform_regression_filter: selected_series.shape = (315050, 55)\n",
      "  _perform_regression_filter: clutter_trend.shape = (315050, 55)\n",
      "  _perform_regression_filter: selected_series.shape = (39869, 55)\n",
      "  _perform_regression_filter: clutter_trend.shape = (39869, 55)\n",
      "Applying Gaussian interpolation (if conditions met)...\n"
     ]
    },
    {
     "data": {
      "application/vnd.jupyter.widget-view+json": {
       "model_id": "b65d941c53dd4abda26411b900673389",
       "version_major": 2,
       "version_minor": 0
      },
      "text/plain": [
       "Batch Gaussian Interpolation:   0%|          | 0/332825 [00:00<?, ?it/s]"
      ]
     },
     "metadata": {},
     "output_type": "display_data"
    },
    {
     "name": "stdout",
     "output_type": "stream",
     "text": [
      "\n",
      "Optimization complete. Filtered data is in filtered_X_h_optimized and filtered_X_v_optimized.\n"
     ]
    }
   ],
   "source": [
    "# set some imporatnt radar parameter\n",
    "wavelength_scalar = lamb\n",
    "prt_scalar = prt[0]\n",
    "num_samples_actual = X_h.shape[2]\n",
    "\n",
    "#filter the I/Q time series for the horizontal and vertical polarizations\n",
    "filter_inst = GroundClutterFilter(\n",
    "    wavelength=lamb,\n",
    "    scan_rate=1/(count * prt[0]),\n",
    "    prt=prt[0],\n",
    "    num_samples=count\n",
    ")\n",
    "\n",
    "print(\"\\n--- Filtering X_h (Horizontal Polarization) ---\")\n",
    "filtered_i_h, filtered_q_h, poly_order_map_h, clutter_i_trend_map_h, clutter_q_trend_map_h, interpolated_spectrum_map_h = \\\n",
    "    filter_inst.filter_iq_data(X_h.real, X_h.imag, cnr_db_map=None, apply_interpolation=True)\n",
    "\n",
    "filtered_X_h_optimized = filtered_i_h + 1j * filtered_q_h\n",
    "\n",
    "del filtered_i_h, filtered_q_h, poly_order_map_h, clutter_i_trend_map_h, clutter_q_trend_map_h, interpolated_spectrum_map_h\n",
    "\n",
    "print(\"\\n--- Filtering X_v (Vertical Polarization) ---\")\n",
    "filtered_i_v, filtered_q_v, poly_order_map_v, clutter_i_trend_map_v, clutter_q_trend_map_v, interpolated_spectrum_map_v = \\\n",
    "    filter_inst.filter_iq_data(X_v.real, X_v.imag, cnr_db_map=None, apply_interpolation=True)\n",
    "\n",
    "filtered_X_v_optimized = filtered_i_v + 1j * filtered_q_v\n",
    "\n",
    "del filtered_i_v, filtered_q_v, poly_order_map_v, clutter_i_trend_map_v, clutter_q_trend_map_v, interpolated_spectrum_map_v\n",
    "\n",
    "print(\"\\nOptimization complete. Filtered data is in filtered_X_h_optimized and filtered_X_v_optimized.\")"
   ]
  },
  {
   "cell_type": "code",
   "execution_count": null,
   "id": "20914aa2-a20f-4345-adf2-08c4fb2de7c3",
   "metadata": {},
   "outputs": [],
   "source": []
  }
 ],
 "metadata": {
  "kernelspec": {
   "display_name": "Python 3 (ipykernel)",
   "language": "python",
   "name": "python3"
  },
  "language_info": {
   "codemirror_mode": {
    "name": "ipython",
    "version": 3
   },
   "file_extension": ".py",
   "mimetype": "text/x-python",
   "name": "python",
   "nbconvert_exporter": "python",
   "pygments_lexer": "ipython3",
   "version": "3.11.8"
  }
 },
 "nbformat": 4,
 "nbformat_minor": 5
}
